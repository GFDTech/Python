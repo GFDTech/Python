{
  "nbformat": 4,
  "nbformat_minor": 0,
  "metadata": {
    "colab": {
      "name": "dia_01.ipynb",
      "provenance": [],
      "mount_file_id": "1B-AYXf0qDRjXwrJeaxHE9uxGIiaQp47G",
      "authorship_tag": "ABX9TyN1yVG4ErsvZjOPCX9eG7Gx",
      "include_colab_link": true
    },
    "kernelspec": {
      "name": "python3",
      "display_name": "Python 3"
    },
    "language_info": {
      "name": "python"
    }
  },
  "cells": [
    {
      "cell_type": "markdown",
      "metadata": {
        "id": "view-in-github",
        "colab_type": "text"
      },
      "source": [
        "<a href=\"https://colab.research.google.com/github/paulovillarroel/aprendiendo_python/blob/main/dia_01.ipynb\" target=\"_parent\"><img src=\"https://colab.research.google.com/assets/colab-badge.svg\" alt=\"Open In Colab\"/></a>"
      ]
    },
    {
      "cell_type": "code",
      "execution_count": 5,
      "metadata": {
        "colab": {
          "base_uri": "https://localhost:8080/"
        },
        "id": "8zd9Vd3sv-da",
        "outputId": "82179a05-3d3f-406b-ea52-265034434eef"
      },
      "outputs": [
        {
          "name": "stdout",
          "output_type": "stream",
          "text": [
            "Ingresa un número: 40\n"
          ]
        }
      ],
      "source": [
        "my_number = int(input('Ingresa un número: '))"
      ]
    },
    {
      "cell_type": "code",
      "source": [
        "print('El doble de tu número es', my_number * 2)"
      ],
      "metadata": {
        "colab": {
          "base_uri": "https://localhost:8080/"
        },
        "id": "n4vZvjx0wMj8",
        "outputId": "d62fb722-d58e-42e1-9c24-0f91133227fb"
      },
      "execution_count": 6,
      "outputs": [
        {
          "output_type": "stream",
          "name": "stdout",
          "text": [
            "El doble de tu número es 80\n"
          ]
        }
      ]
    }
  ]
}