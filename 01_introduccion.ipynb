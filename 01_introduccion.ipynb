{
 "cells": [
  {
   "cell_type": "markdown",
   "metadata": {},
   "source": [
    "# Introducción a Python\n",
    "\n",
    "En este repositorio estaré revisando algunos aspectos que me parecen relevante a la hora de aprender Python. De hecho, más allá de eso, muchos conceptos son aplicables a cualquier lenguaje de programación.\\\n",
    "\n",
    "Espero abordar los siguientes temas:\n",
    "\n",
    "- Los conceptos universales de la programación.\n",
    "- La sintaxis y la semántica del lenguaje Python.\n",
    "- Habilidades prácticas para resolver desafíos típicos de implementación.\n",
    "- A utilizar los elementos más importantes de la biblioteca estándar de Python.\n",
    "- A instalar un entorno de ejecución.\n",
    "- A diseñar, escribir, probar y depurar programas Python.\n",
    "- Habilidades para manejar datos.\n",
    "- Aprender a implementar diversos algoritmos de inteligencia artificial.\n",
    "- Conectarse y utilizar a API´s.\n",
    "- Realizar distintas automatizaciones. \n",
    "\n",
    "\n",
    "## ¿Por qué aprender PYTHON?\n",
    "\n",
    "En mi camino profesional, tengo casi una década diseñando e implementando diversos proyectos de datos, principalmente, en el área de salud. Desde hace un par de años que soy desarrollador y he usado el lenguaje de programación R para mis proyectos de Ciencias de Datos. R me encanta!! Pero si estás pensando en desarrollar una carrera profesional en el ámbito de la ciencia de datos, no te puedes quedar solo con una tecnología. Lo realmente relevante es poder resolver problemas y para eso, vamos a necesitar conocer y utilizar diversas herramientas. Una de ellas es la programación y el usar varios lenguajes ayuda mucho a sacar lo mejor de cada uno y fortalecer las iniciativas de datos.\\\n",
    "\n",
    "En la Ciencia de Datos tanto R como Python son de gran relevancia y deberías saber de ambos. R es genial para la manipulación y limpeza de datos, además de tener librerías muy poderosas para visualización. Python, por su parte, tiene sus fortalezas en aspectos de integraciones, automatizaciones y aplicaciones de inteligencia artificial.\\\n",
    "\n",
    "Python es omnipresente y es el lenguaje más usado en la actualidad. Además, es de propósito general, por lo que se pueden hacer muchas con él, más allá del análisis de datos. Mi recomendación es, entonces, apender ambos: R y Python. No pelearse por cual es mejor. Ambos son necesarios. \n",
    "\n",
    "También hay un par de factores que hacen que Python sea excelente para el aprendizaje:\n",
    "\n",
    "- Es fácil de aprender: el tiempo necesario para aprender Python es más corto que para muchos otros lenguajes.\n",
    "- Es fácil de usar para escribir software nuevo; a menudo es posible escribir código más rápido cuando se usa Python.\n",
    "- Es fácil de obtener, instalar e implementar: Python es gratuito, abierto y multiplataforma.\n",
    "\n",
    "\n",
    "## Curso de Ciencia de Datos usando R\n",
    "\n",
    "Junto a OpenSalud LAB realizamos un curso muy completo para aprender desde los más básico a programar y usar R para desarrollar proyectos de Ciencia de Datos en salud. Muchas de las cosas que se abordan ahí, aplican para este repositorio, pues muchos conceptos de base son de la ciencias de la programación y no dependen de un lenguaje especial, aún cuando depende de éste el cómo se implementa (se escribe y despliega).\\\n",
    "\n",
    "Si quieres mirar ese curso, puedes verlo en el siguiente enlace: [Bootcamp Ciencia de Datos](https://github.com/opensaludlab/ciencia_datos)\\\n",
    "Es totalmente gratis. \n",
    "\n",
    "\n",
    "## ¿Este es un curso para aprender Python?\n",
    "\n",
    "No técnicamente. No está pensado para ser un curso como tal (a diferencia del de R que te mencioné antes). Lo que voy a hacer acá es documentar mis estudios y avances en Python. Actualmente me estoy basando en varios cursos para estudiar, pero cada persona tiene distintos tiempos de aprendizaje y requiere distintos métodos para ir asimilando las materias. Además, ten en cuenta que yo ya sé programar y que tengo varios años haciéndolo de forma profesional. Eso claramente es un plus para aprender un nuevo lenguaje y ya varios conceptos los tengo interiorizados. Sin embargo, mi idea es partir desde cero para este caso (o intentarlo, al menos), más que nada para que este repositorio le sea de utilidad a otras personas que se puedan interesar en aprender a programar y sacar adelante proyectos.\\\n",
    "\n",
    "Por ahora será principalmente de material escrito (como éste), pero posiblemente incluya videos (hechos por mí o de otras personas) para ayudar en algunos temas.\\\n",
    "\n",
    "De todas formas, creo interesante y valioso el documentar mi viaje de aprendizaje en Python. Puede que a más de alguien le sirva."
   ]
  }
 ],
 "metadata": {
  "kernelspec": {
   "display_name": "Python 3.10.6 64-bit",
   "language": "python",
   "name": "python3"
  },
  "language_info": {
   "name": "python",
   "version": "3.10.6"
  },
  "orig_nbformat": 4,
  "vscode": {
   "interpreter": {
    "hash": "369f2c481f4da34e4445cda3fffd2e751bd1c4d706f27375911949ba6bb62e1c"
   }
  }
 },
 "nbformat": 4,
 "nbformat_minor": 2
}
