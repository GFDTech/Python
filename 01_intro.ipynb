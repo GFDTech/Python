{
  "nbformat": 4,
  "nbformat_minor": 0,
  "metadata": {
    "colab": {
      "name": "01_intro.ipynb",
      "provenance": [],
      "collapsed_sections": [],
      "mount_file_id": "1B-AYXf0qDRjXwrJeaxHE9uxGIiaQp47G",
      "authorship_tag": "ABX9TyPDvCD1QKG0agKYEH7mcdyM",
      "include_colab_link": true
    },
    "kernelspec": {
      "name": "python3",
      "display_name": "Python 3"
    },
    "language_info": {
      "name": "python"
    }
  },
  "cells": [
    {
      "cell_type": "markdown",
      "metadata": {
        "id": "view-in-github",
        "colab_type": "text"
      },
      "source": [
        "<a href=\"https://colab.research.google.com/github/paulovillarroel/aprendiendo_python/blob/main/01_intro.ipynb\" target=\"_parent\"><img src=\"https://colab.research.google.com/assets/colab-badge.svg\" alt=\"Open In Colab\"/></a>"
      ]
    },
    {
      "cell_type": "markdown",
      "source": [
        "# **Introducción a Python**\n",
        "\n",
        "Este es el inicio de todo.\\\n",
        "En este repo iré documentando mis estudios y aprendizajes en Python."
      ],
      "metadata": {
        "id": "J6io-i-R0TOT"
      }
    }
  ]
}